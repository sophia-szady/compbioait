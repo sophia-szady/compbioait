{
  "nbformat": 4,
  "nbformat_minor": 0,
  "metadata": {
    "kernelspec": {
      "display_name": "Python 3",
      "language": "python",
      "name": "python3"
    },
    "language_info": {
      "codemirror_mode": {
        "name": "ipython",
        "version": 3
      },
      "file_extension": ".py",
      "mimetype": "text/x-python",
      "name": "python",
      "nbconvert_exporter": "python",
      "pygments_lexer": "ipython3",
      "version": "3.6.6"
    },
    "colab": {
      "provenance": [],
      "include_colab_link": true
    }
  },
  "cells": [
    {
      "cell_type": "markdown",
      "metadata": {
        "id": "view-in-github",
        "colab_type": "text"
      },
      "source": [
        "<a href=\"https://colab.research.google.com/github/sophia-szady/deeplearningait/blob/main/Copy_of_AIT_09_Author_classification_assessment.ipynb\" target=\"_parent\"><img src=\"https://colab.research.google.com/assets/colab-badge.svg\" alt=\"Open In Colab\"/></a>"
      ]
    },
    {
      "cell_type": "markdown",
      "metadata": {
        "id": "_jiGtJu6u9ml"
      },
      "source": [
        "# Copyright\n",
        "\n",
        "<PRE>\n",
        "Copyright (c) 2021 Bálint Gyires-Tóth - All Rights Reserved\n",
        "You may use and modify this code for research and development purpuses.\n",
        "Use this code for educational purposes (self-paced or instructor led) without the permission of the author is prohibited.\n",
        "</PRE>"
      ]
    },
    {
      "cell_type": "markdown",
      "metadata": {
        "id": "oXyFC44jV-PP"
      },
      "source": [
        "# Author classification\n",
        "The task is to train a 1D CNN or an LSTM that is able to  classify text from two authors. The final model should be able to tell about a text with a given length (e.g. 60 characters) who wrote it. \n",
        "\n",
        "Please write the codes according to the following parts:"
      ]
    },
    {
      "cell_type": "markdown",
      "metadata": {
        "id": "jCnLoeGrHXsp"
      },
      "source": [
        "## Python module imports\n",
        "Import all Python modules that you would need during the Assignment."
      ]
    },
    {
      "cell_type": "code",
      "metadata": {
        "id": "7itbFGt3HXVT"
      },
      "source": [
        "from tensorflow.keras.models import Sequential\n",
        "from tensorflow.keras.layers import Dense, Activation, Dropout\n",
        "from tensorflow.keras.layers import LSTM\n",
        "from tensorflow.keras.optimizers import RMSprop\n",
        "from urllib.request import urlretrieve\n",
        "import numpy as np\n",
        "import random\n",
        "import sys\n",
        "import re, cgi\n",
        "import matplotlib.pyplot as plt\n",
        "import seaborn as sns\n",
        "import pandas as pd\n",
        "from collections import Counter\n",
        "from tensorflow.keras.callbacks import EarlyStopping\n",
        "from sklearn.metrics import confusion_matrix, classification_report\n",
        "from tensorflow.keras.layers import Dense, Embedding, Flatten, Dropout\n",
        "from tensorflow.keras.initializers import HeNormal\n",
        "from tensorflow.keras.layers import Dense, Conv2D, MaxPool2D, Flatten, Dropout, BatchNormalization\n",
        "from tensorflow.keras.layers import Activation, Dense, Flatten, Conv1D, MaxPooling1D, Dropout"
      ],
      "execution_count": null,
      "outputs": []
    },
    {
      "cell_type": "markdown",
      "metadata": {
        "id": "Hr617tEpHd8R"
      },
      "source": [
        "## Data acquisition\n",
        "Seek a possible dataset, you can use any source, e.g.\n",
        "* http://www.gutenberg.org/\n",
        "* https://www.kaggle.com/datasets\n",
        "* https://paperswithcode.com/datasets\n",
        "* if you would like to learn Hungarian, than e.g. https://mek.oszk.hu/\n",
        "\n",
        "You can download the text by hand (e.g. by copy-pasting some parts into txt files) or with Python. "
      ]
    },
    {
      "cell_type": "code",
      "metadata": {
        "id": "NgkdQxHqHdZB"
      },
      "source": [
        "url_book=\"https://www.gutenberg.org/cache/epub/45/pg45.txt\"\n",
        "urlretrieve(url_book, 'book0.txt')\n",
        "text0 = open(\"book0.txt\", encoding='utf-8').read().lower()\n",
        "count0 = Counter(text0)\n",
        "\n",
        "url_book=\"http://www.gutenberg.org/files/2151/2151-0.txt\"\n",
        "urlretrieve(url_book, 'book1.txt')\n",
        "text1 = open(\"book1.txt\", encoding='utf-8').read().lower()\n",
        "count1 = Counter(text1)"
      ],
      "execution_count": null,
      "outputs": []
    },
    {
      "cell_type": "markdown",
      "source": [
        "## Data analysis\n",
        "Count the number of characters from both authors and display them on a plot (e.g. Seaborn's countplot)."
      ],
      "metadata": {
        "id": "U9Pmq91t3SRD"
      }
    },
    {
      "cell_type": "code",
      "source": [
        "print('Unique characters of the book Anne of Green Gables:', len(text0))\n",
        "print('Unique characters of the book The Works of Edgar Allan Poe, Volume 5:', len(text1))\n",
        "\n",
        "text = text0 + text1\n",
        "count = Counter(text)\n",
        "\n",
        "plt.figure(figsize=(12,6))\n",
        "plt.yscale('log')\n",
        "plt.bar(count.keys(), count.values())\n",
        "plt.title('Total Number of Characters')\n",
        "plt.show()"
      ],
      "metadata": {
        "id": "uRqGdn4F3Spk",
        "colab": {
          "base_uri": "https://localhost:8080/",
          "height": 412
        },
        "outputId": "2f4b250d-2d8d-4a7b-a76c-00b94cfbf8a5"
      },
      "execution_count": null,
      "outputs": [
        {
          "output_type": "stream",
          "name": "stdout",
          "text": [
            "Unique characters of the book Anne of Green Gables: 580100\n",
            "Unique characters of the book The Works of Edgar Allan Poe, Volume 5: 486583\n"
          ]
        },
        {
          "output_type": "display_data",
          "data": {
            "text/plain": [
              "<Figure size 1200x600 with 1 Axes>"
            ],
            "image/png": "[encoded data removed]"
          },
          "metadata": {}
        }
      ]
    },
    {
      "cell_type": "markdown",
      "metadata": {
        "id": "cHyE_ndGIblJ"
      },
      "source": [
        "## Data loading, labeling and preprocessing\n",
        "Load the data and convert the characters into one-hot encodings. Then load the data into a 3D NumPy array, with a shape of\n",
        "\n",
        "* (batch, sequence_length, alphabet_length)\n",
        "\n",
        "where sequence_length=60, and alphabet_length equals to the number of unique characters in both datasets. The sequences should be cut out from the complete dataset by sliding window. You should add 0 and 1 labels to the sequences, according to the author. \n",
        "\n",
        "Later you may change sequence_length to achieve better results!"
      ]
    },
    {
      "cell_type": "code",
      "metadata": {
        "id": "arooXt0WIb6x",
        "colab": {
          "base_uri": "https://localhost:8080/"
        },
        "outputId": "08127eb9-c8d8-4f5d-f43a-20242020ee05"
      },
      "source": [
        "unique_chars = sorted(list(set(text0+text1)))\n",
        "\n",
        "char_indices = dict((c, i) for i, c in enumerate(unique_chars))\n",
        "indices_char = dict((i, c) for i, c in enumerate(unique_chars))\n",
        "\n",
        "maxlen  = 60\n",
        "step    = 10   # the step size between two \"sentence\" is 10 characters\n",
        "\n",
        "sentences0  = [] # maxlen number of characters, with \"step\" overlap between two \"sentences\" \n",
        "sentences1  = [] # maxlen number of characters, with \"step\" overlap between two \"sentences\" \n",
        "\n",
        "for i in range(0, len(text0)-maxlen, step):\n",
        "    sentences0.append(text0[i:i+maxlen])\n",
        "\n",
        "for i in range(0, len(text1)-maxlen, step):\n",
        "    sentences1.append(text1[i:i+maxlen])\n",
        "\n",
        "X = np.zeros((len(sentences0 + sentences1), maxlen, len(unique_chars)))\n",
        "Y = np.zeros((len(sentences0 + sentences1), 2))\n",
        "\n",
        "for i, sentence in enumerate(sentences0):\n",
        "    for t, char in enumerate(sentence): \n",
        "        X[i,t,char_indices[char]] = 1\n",
        "    Y[i,0] = 1\n",
        "\n",
        "for i, sentence in enumerate(sentences1):\n",
        "    for t, char in enumerate(sentence): \n",
        "        X[i + len(sentences0),t,char_indices[char]] = 1\n",
        "    Y[i + len(sentences0),1] = 1\n",
        "\n",
        "indices = np.arange(len(X))\n",
        "np.random.shuffle(indices)\n",
        "X = X[indices]\n",
        "Y = Y[indices]\n",
        "\n",
        "print (\"Shape of the input data:\", X.shape)\n",
        "print (\"Shape of the target data:\", Y.shape)"
      ],
      "execution_count": null,
      "outputs": [
        {
          "output_type": "stream",
          "name": "stdout",
          "text": [
            "Shape of the input data: (106657, 60, 98)\n",
            "Shape of the target data: (106657, 2)\n"
          ]
        }
      ]
    },
    {
      "cell_type": "markdown",
      "metadata": {
        "id": "lL1Mc8ibHnep"
      },
      "source": [
        "## Data splitting\n",
        "Split the data into train, validate and test sets. Make "
      ]
    },
    {
      "cell_type": "code",
      "metadata": {
        "id": "ELyG9XFUHrkB",
        "colab": {
          "base_uri": "https://localhost:8080/"
        },
        "outputId": "32088fee-3b0f-43ee-e23f-1e0c885a340a"
      },
      "source": [
        "train_ratio  = 0.8\n",
        "train_length = X.shape[0]\n",
        "train_split  = int(train_ratio*train_length)\n",
        "X_test, Y_test = X[train_split:], Y[train_split:]\n",
        "X_train, Y_train = X[:train_split], Y[:train_split] \n",
        "\n",
        "valid_ratio  = 0.75\n",
        "valid_length = X_train.shape[0]\n",
        "valid_split  = int(valid_ratio*valid_length)\n",
        "X_valid, Y_valid = X_train[valid_split:], Y_train[valid_split:]\n",
        "X_train, Y_train = X_train[:valid_split], Y_train[:valid_split]\n",
        "print(Y_test[:,0].sum())"
      ],
      "execution_count": null,
      "outputs": [
        {
          "output_type": "stream",
          "name": "stdout",
          "text": [
            "11573.0\n"
          ]
        }
      ]
    },
    {
      "cell_type": "markdown",
      "metadata": {
        "id": "hA8U9tr7HrNQ"
      },
      "source": [
        "## Model definition\n",
        "Define a 1D CNN or an LSTM for the task. Compile the model with the correct loss function."
      ]
    },
    {
      "cell_type": "code",
      "metadata": {
        "id": "BT1V1s4kHuUe"
      },
      "source": [
        "model = Sequential()\n",
        "model.add(Conv1D(filters=128, kernel_size=3, activation='relu', kernel_initializer='he_normal', input_shape=(X_train.shape[1], X_train.shape[2])))\n",
        "model.add(MaxPooling1D())\n",
        "model.add(Dropout(0.5))\n",
        "model.add(Conv1D(filters=128, kernel_size=3, activation='relu', kernel_initializer='he_normal'))\n",
        "model.add(MaxPooling1D())\n",
        "model.add(Dropout(0.5))\n",
        "model.add(Flatten())\n",
        "model.add(Dense(128, activation='relu'))\n",
        "model.add(Dropout(0.5))\n",
        "model.add(Dense(Y_train.shape[1], activation='sigmoid'))"
      ],
      "execution_count": null,
      "outputs": []
    },
    {
      "cell_type": "code",
      "source": [
        "model.summary()"
      ],
      "metadata": {
        "colab": {
          "base_uri": "https://localhost:8080/"
        },
        "id": "NAcq-1J_fQT5",
        "outputId": "83b58856-0f84-4a06-af4b-ad3be4582d46"
      },
      "execution_count": null,
      "outputs": [
        {
          "output_type": "stream",
          "name": "stdout",
          "text": [
            "Model: \"sequential\"\n",
            "_________________________________________________________________\n",
            " Layer (type)                Output Shape              Param #   \n",
            "=================================================================\n",
            " conv1d (Conv1D)             (None, 58, 128)           37760     \n",
            "                                                                 \n",
            " max_pooling1d (MaxPooling1D  (None, 29, 128)          0         \n",
            " )                                                               \n",
            "                                                                 \n",
            " dropout (Dropout)           (None, 29, 128)           0         \n",
            "                                                                 \n",
            " conv1d_1 (Conv1D)           (None, 27, 128)           49280     \n",
            "                                                                 \n",
            " max_pooling1d_1 (MaxPooling  (None, 13, 128)          0         \n",
            " 1D)                                                             \n",
            "                                                                 \n",
            " dropout_1 (Dropout)         (None, 13, 128)           0         \n",
            "                                                                 \n",
            " flatten (Flatten)           (None, 1664)              0         \n",
            "                                                                 \n",
            " dense (Dense)               (None, 128)               213120    \n",
            "                                                                 \n",
            " dropout_2 (Dropout)         (None, 128)               0         \n",
            "                                                                 \n",
            " dense_1 (Dense)             (None, 2)                 258       \n",
            "                                                                 \n",
            "=================================================================\n",
            "Total params: 300,418\n",
            "Trainable params: 300,418\n",
            "Non-trainable params: 0\n",
            "_________________________________________________________________\n"
          ]
        }
      ]
    },
    {
      "cell_type": "markdown",
      "metadata": {
        "id": "hWFb-nAMHuAI"
      },
      "source": [
        "## Model training\n",
        "Train the model and apply early stopping."
      ]
    },
    {
      "cell_type": "code",
      "metadata": {
        "id": "dvgKjqp3Hwkp",
        "colab": {
          "base_uri": "https://localhost:8080/"
        },
        "outputId": "76177b4b-1435-4652-dd10-d463b0836ee6"
      },
      "source": [
        "optimizer = RMSprop(learning_rate=0.01)\n",
        "model.compile(loss='binary_crossentropy', optimizer= optimizer)\n",
        "\n",
        "es = EarlyStopping(patience=3, restore_best_weights=True, monitor=\"val_loss\")\n",
        "\n",
        "model.fit(X_train, Y_train, \n",
        "          validation_data = (X_valid,Y_valid),\n",
        "          epochs=20, batch_size=128, \n",
        "          callbacks=[es],\n",
        "          verbose=2)"
      ],
      "execution_count": null,
      "outputs": [
        {
          "output_type": "stream",
          "name": "stdout",
          "text": [
            "Epoch 1/20\n",
            "500/500 - 51s - loss: 0.2456 - val_loss: 0.1645 - 51s/epoch - 102ms/step\n",
            "Epoch 2/20\n",
            "500/500 - 50s - loss: 0.1641 - val_loss: 0.1267 - 50s/epoch - 100ms/step\n",
            "Epoch 3/20\n",
            "500/500 - 46s - loss: 0.1517 - val_loss: 0.1309 - 46s/epoch - 93ms/step\n",
            "Epoch 4/20\n",
            "500/500 - 48s - loss: 0.1514 - val_loss: 0.1353 - 48s/epoch - 96ms/step\n",
            "Epoch 5/20\n",
            "500/500 - 48s - loss: 0.1477 - val_loss: 0.1261 - 48s/epoch - 96ms/step\n",
            "Epoch 6/20\n",
            "500/500 - 47s - loss: 0.1527 - val_loss: 0.1277 - 47s/epoch - 94ms/step\n",
            "Epoch 7/20\n",
            "500/500 - 49s - loss: 0.1552 - val_loss: 0.1392 - 49s/epoch - 97ms/step\n",
            "Epoch 8/20\n",
            "500/500 - 49s - loss: 0.1545 - val_loss: 0.1226 - 49s/epoch - 97ms/step\n",
            "Epoch 9/20\n",
            "500/500 - 48s - loss: 0.1576 - val_loss: 0.1609 - 48s/epoch - 97ms/step\n",
            "Epoch 10/20\n",
            "500/500 - 47s - loss: 0.1606 - val_loss: 0.1249 - 47s/epoch - 95ms/step\n",
            "Epoch 11/20\n",
            "500/500 - 48s - loss: 0.1622 - val_loss: 0.1332 - 48s/epoch - 96ms/step\n"
          ]
        },
        {
          "output_type": "execute_result",
          "data": {
            "text/plain": [
              "<keras.callbacks.History at 0x7f88794c7af0>"
            ]
          },
          "metadata": {},
          "execution_count": 8
        }
      ]
    },
    {
      "cell_type": "markdown",
      "metadata": {
        "id": "0omw2XzSHwOo"
      },
      "source": [
        "## Evaluation on test data\n",
        "Evaluate the model on the test data in terms of loss and accuracy."
      ]
    },
    {
      "cell_type": "code",
      "metadata": {
        "id": "4bF3dQA1Hv_R",
        "colab": {
          "base_uri": "https://localhost:8080/"
        },
        "outputId": "a66f2efe-6003-47ed-a279-964f0f83a55e"
      },
      "source": [
        "eval = model.evaluate(X_test,Y_test)\n",
        "print(\"Test loss:\",eval)\n",
        "#print(\"Test accuracy:\",eval[1])"
      ],
      "execution_count": null,
      "outputs": [
        {
          "output_type": "stream",
          "name": "stdout",
          "text": [
            "667/667 [==============================] - 7s 10ms/step - loss: 0.1332\n",
            "Test loss: 0.1331806629896164\n"
          ]
        }
      ]
    },
    {
      "cell_type": "markdown",
      "metadata": {
        "id": "4Y73Q-h5Hz1r"
      },
      "source": [
        "## Confusion matrix\n",
        "Calculate and display the confusion matrix."
      ]
    },
    {
      "cell_type": "code",
      "metadata": {
        "id": "cW8zZi1uJm2B",
        "colab": {
          "base_uri": "https://localhost:8080/",
          "height": 470
        },
        "outputId": "9e0b84ee-e9f4-4d16-8ef7-c60ab1090547"
      },
      "source": [
        "preds=model.predict(X_test)\n",
        "conf=confusion_matrix(np.argmax(Y_test,1),np.argmax(preds,1))\n",
        "sns.heatmap(conf, annot=True, fmt='d', vmax=10000)"
      ],
      "execution_count": null,
      "outputs": [
        {
          "output_type": "stream",
          "name": "stdout",
          "text": [
            "667/667 [==============================] - 7s 11ms/step\n"
          ]
        },
        {
          "output_type": "execute_result",
          "data": {
            "text/plain": [
              "<Axes: >"
            ]
          },
          "metadata": {},
          "execution_count": 11
        },
        {
          "output_type": "display_data",
          "data": {
            "text/plain": [
              "<Figure size 640x480 with 2 Axes>"
            ],
            "image/png": "[encoded data removed]"
          },
          "metadata": {}
        }
      ]
    },
    {
      "cell_type": "code",
      "source": [],
      "metadata": {
        "id": "E664lxRtv7nG"
      },
      "execution_count": null,
      "outputs": []
    }
  ]
}