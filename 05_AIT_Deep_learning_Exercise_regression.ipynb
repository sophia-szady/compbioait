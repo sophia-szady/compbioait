{
  "nbformat": 4,
  "nbformat_minor": 0,
  "metadata": {
    "kernelspec": {
      "display_name": "Python 3",
      "language": "python",
      "name": "python3"
    },
    "language_info": {
      "codemirror_mode": {
        "name": "ipython",
        "version": 3
      },
      "file_extension": ".py",
      "mimetype": "text/x-python",
      "name": "python",
      "nbconvert_exporter": "python",
      "pygments_lexer": "ipython3",
      "version": "3.6.6"
    },
    "colab": {
      "provenance": [],
      "include_colab_link": true
    }
  },
  "cells": [
    {
      "cell_type": "markdown",
      "metadata": {
        "id": "view-in-github",
        "colab_type": "text"
      },
      "source": [
        "<a href=\"https://colab.research.google.com/github/sophia-szady/deeplearningait/blob/main/05_AIT_Deep_learning_Exercise_regression.ipynb\" target=\"_parent\"><img src=\"https://colab.research.google.com/assets/colab-badge.svg\" alt=\"Open In Colab\"/></a>"
      ]
    },
    {
      "cell_type": "markdown",
      "metadata": {
        "id": "_jiGtJu6u9ml"
      },
      "source": [
        "# Copyright\n",
        "\n",
        "<PRE>\n",
        "Copyright (c) 2023 Bálint Gyires-Tóth - All Rights Reserved\n",
        "You may use and modify this code for research and development purpuses.\n",
        "Use this code for educational purposes (self-paced or instructor led) without the permission of the author is prohibited.\n",
        "</PRE>"
      ]
    },
    {
      "cell_type": "markdown",
      "metadata": {
        "id": "oXyFC44jV-PP"
      },
      "source": [
        "\n",
        "\n",
        "# California housing prices - modeling\n",
        "In this notebook we will: \n",
        "* using California housing prices data (https://www.kaggle.com/camnugent/california-housing-prices)\n",
        "* exploring the data\n",
        "* creating a model\n",
        "* training the model\n",
        "* evaluation on test data\n",
        "* making predictions and regression plot\n",
        "\n",
        "Exercises: \n",
        "* please complete TODO parts\n"
      ]
    },
    {
      "cell_type": "code",
      "metadata": {
        "id": "jLX73EvBu9ms"
      },
      "source": [
        "import matplotlib.pyplot as plt\n",
        "import seaborn as sns\n",
        "import numpy as np\n",
        "import pandas as pd\n",
        "import matplotlib.pyplot as plt \n",
        "from sklearn import preprocessing\n",
        "from sklearn.datasets import fetch_california_housing"
      ],
      "execution_count": null,
      "outputs": []
    },
    {
      "cell_type": "code",
      "metadata": {
        "id": "Ba-K0MyGoNay"
      },
      "source": [
        "<TODO> # Keras imports : model, layers, optimizers"
      ],
      "execution_count": null,
      "outputs": []
    },
    {
      "cell_type": "code",
      "metadata": {
        "id": "K5uDujeqviOH"
      },
      "source": [
        "# load California Housing Prices dataset\n",
        "housing = fetch_california_housing()\n",
        "X,Y = housing['data'], housing['target']\n",
        "nb_samples = X.shape[0]"
      ],
      "execution_count": null,
      "outputs": []
    },
    {
      "cell_type": "markdown",
      "metadata": {
        "id": "sS7xCTZioeIK"
      },
      "source": [
        "Splitting data into training, validation and test sets:"
      ]
    },
    {
      "cell_type": "code",
      "metadata": {
        "id": "YWUhEmcaoYeW"
      },
      "source": [
        "valid_split = 0.2\n",
        "test_split  = 0.1\n",
        "\n",
        "v_point = <TODO>\n",
        "t_point = <TODO>\n",
        "\n",
        "X_train = <TODO>\n",
        "Y_train = <TODO>\n",
        "X_valid = <TODO>\n",
        "Y_valid = <TODO>\n",
        "X_test  = X[t_point:]\n",
        "Y_test  = Y[t_point:]"
      ],
      "execution_count": null,
      "outputs": []
    },
    {
      "cell_type": "markdown",
      "metadata": {
        "id": "n6awn-6uogmo"
      },
      "source": [
        "Standardization of the data:"
      ]
    },
    {
      "cell_type": "code",
      "metadata": {
        "id": "XSNawE7Zob_Y"
      },
      "source": [
        "mean    = <TODO>\n",
        "std     = <TODO>\n",
        "X_train = <TODO>\n",
        "X_valid = <TODO>\n",
        "X_test  = <TODO>"
      ],
      "execution_count": null,
      "outputs": []
    },
    {
      "cell_type": "markdown",
      "metadata": {
        "id": "MpBJFHZvu9m2"
      },
      "source": [
        "Model definition, hints:\n",
        "* one or two hidden layers and 8-64 neurons / layer\n",
        "* the hidden layers should have non-linear activation functions\n",
        "* the input and output layers' sizes are defined by the data\n",
        "* as the output is continuous, it can be a linear layer"
      ]
    },
    {
      "cell_type": "code",
      "metadata": {
        "id": "flEY3-qBorvA"
      },
      "source": [
        "model = <TODO>\n",
        "<TODO> # model.add(....)"
      ],
      "execution_count": null,
      "outputs": []
    },
    {
      "cell_type": "markdown",
      "metadata": {
        "id": "efZ6M0Yh3WlT"
      },
      "source": [
        "Inspect the model summary:"
      ]
    },
    {
      "cell_type": "code",
      "metadata": {
        "id": "LhfnanAm3X9l"
      },
      "source": [
        "model.summary()"
      ],
      "execution_count": null,
      "outputs": []
    },
    {
      "cell_type": "markdown",
      "metadata": {
        "id": "h3hCd6Cf3ZS1"
      },
      "source": [
        "Number of trainable parameters in the model: TODO"
      ]
    },
    {
      "cell_type": "markdown",
      "metadata": {
        "id": "ibjhW3pAoveO"
      },
      "source": [
        "Compiling the model, hints:\n",
        "* the loss function has to match the task (regession)\n",
        "* you should try ADAM and/or SGD optimizer"
      ]
    },
    {
      "cell_type": "code",
      "metadata": {
        "id": "ztxln4VUow5q"
      },
      "source": [
        "model.compile(<TODO>)"
      ],
      "execution_count": null,
      "outputs": []
    },
    {
      "cell_type": "markdown",
      "metadata": {
        "id": "zfmN2ROJo4xq"
      },
      "source": [
        "Defining the earlystopping callback function:"
      ]
    },
    {
      "cell_type": "code",
      "metadata": {
        "id": "fhQMRIhio3Js"
      },
      "source": [
        "es = EarlyStopping(<TODO>)"
      ],
      "execution_count": null,
      "outputs": []
    },
    {
      "cell_type": "markdown",
      "metadata": {
        "id": "JqJNQCtB2k08"
      },
      "source": [
        "Train the model, use training and validation data and apply early stopping:"
      ]
    },
    {
      "cell_type": "code",
      "metadata": {
        "id": "oWDGwe862kQj"
      },
      "source": [
        "model.fit(<TODO>)"
      ],
      "execution_count": null,
      "outputs": []
    },
    {
      "cell_type": "markdown",
      "metadata": {
        "id": "pCaNGjzQ2m9D"
      },
      "source": [
        "Evaluate the model on the test data:"
      ]
    },
    {
      "cell_type": "code",
      "metadata": {
        "id": "_MDJut_b3-6Q"
      },
      "source": [
        "model.evaluate(<TODO>)"
      ],
      "execution_count": null,
      "outputs": []
    },
    {
      "cell_type": "markdown",
      "metadata": {
        "id": "Gtd_UnfN4TPP"
      },
      "source": [
        "Run inference on the test data:"
      ]
    },
    {
      "cell_type": "code",
      "metadata": {
        "id": "OhghFnnf4VA1"
      },
      "source": [
        "preds = model.predict(<TODO>)"
      ],
      "execution_count": null,
      "outputs": []
    },
    {
      "cell_type": "markdown",
      "metadata": {
        "id": "cZkVPySYAddP"
      },
      "source": [
        "Inspect the result on a regression plot:"
      ]
    },
    {
      "cell_type": "code",
      "metadata": {
        "id": "Uzv3YtGlAcl6"
      },
      "source": [
        "plt.figure(figsize=(10,10))\n",
        "sns.regplot(x=Y_test.reshape(-1), y=preds.reshape(-1)).set(xlim=(0,5),ylim=(0,5)); "
      ],
      "execution_count": null,
      "outputs": []
    }
  ]
}